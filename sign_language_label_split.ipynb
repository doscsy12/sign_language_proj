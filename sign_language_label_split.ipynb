{
 "cells": [
  {
   "cell_type": "markdown",
   "metadata": {},
   "source": [
    "# Sign language project using Tensorflow "
   ]
  },
  {
   "cell_type": "markdown",
   "metadata": {},
   "source": [
    "## Goal\n",
    "\n",
    "This notebook is to build a sign language classifier. One will be able to create own data, label it and train the classifier on specific signs. We will work with the American Sign Language (ASL) codes.\n"
   ]
  },
  {
   "cell_type": "markdown",
   "metadata": {
    "id": "zXvSoZiUsKNU"
   },
   "source": [
    "**Import libraries**"
   ]
  },
  {
   "cell_type": "code",
   "execution_count": 1,
   "metadata": {
    "colab": {
     "base_uri": "https://localhost:8080/",
     "height": 398
    },
    "id": "oEqk3xPXsKNU",
    "outputId": "5711e83f-fe32-4e0b-aa8e-4156ff989941"
   },
   "outputs": [],
   "source": [
    "import uuid\n",
    "import numpy as np\n",
    "import os\n",
    "import time\n",
    "from pathlib import Path\n",
    "import cv2 \n",
    "import random\n",
    "import shutil\n",
    "import matplotlib.pyplot as plt\n",
    "\n",
    "import tensorflow as tf\n",
    "from PIL import Image\n",
    "from io import BytesIO"
   ]
  },
  {
   "cell_type": "markdown",
   "metadata": {
    "id": "agMBtghdsKNW"
   },
   "source": [
    "**Note:** images should have been collected.\n"
   ]
  },
  {
   "cell_type": "markdown",
   "metadata": {
    "id": "VRepbSLzsKNX"
   },
   "source": [
    "### Label collected data"
   ]
  },
  {
   "cell_type": "code",
   "execution_count": 4,
   "metadata": {},
   "outputs": [],
   "source": [
    "labels = ['hello', 'thanks', 'iloveyou', 'yes', 'no']"
   ]
  },
  {
   "cell_type": "code",
   "execution_count": 5,
   "metadata": {},
   "outputs": [],
   "source": [
    "for label in labels:\n",
    "    i = 0\n",
    "    label_path = os.path.join('workspace1', 'images', 'collectedimages', label)\n",
    "\n",
    "    for filename in os.listdir(label_path):\n",
    "        my_dest = label + str(i) + \".jpg\"\n",
    "        my_source = os.path.join(label_path, filename)\n",
    "        my_dest = os.path.join(label_path, my_dest)\n",
    "        # rename() function will rename all the files\n",
    "        os.rename(my_source, my_dest)\n",
    "        i += 1 "
   ]
  },
  {
   "cell_type": "markdown",
   "metadata": {},
   "source": [
    "**Split data to train/test folder**"
   ]
  },
  {
   "cell_type": "code",
   "execution_count": 6,
   "metadata": {},
   "outputs": [],
   "source": [
    "labels = ['hello', 'thanks', 'iloveyou', 'yes', 'no']\n",
    "source_path = os.path.join('workspace1', 'images')\n",
    "        \n",
    "paths = ['train', 'test']\n",
    "for p in paths:\n",
    "    for label in labels:\n",
    "        path = os.path.join(source_path, p, label)\n",
    "        if not os.path.exists(path):\n",
    "            !mkdir {path}  "
   ]
  },
  {
   "cell_type": "code",
   "execution_count": 7,
   "metadata": {},
   "outputs": [],
   "source": [
    "labels = ['hello', 'thanks', 'iloveyou', 'yes', 'no']\n",
    "number_imgs = 10\n",
    "test_size = int(np.ceil(0.25*number_imgs))\n",
    "train_size = number_imgs - test_size\n",
    "\n",
    "for label in labels:\n",
    "    train_path = os.path.join('workspace1', 'images', 'train', label)\n",
    "    test_path = os.path.join( 'workspace1', 'images', 'test', label)\n",
    "\n",
    "    label_path = os.path.join('workspace1', 'images', 'collectedimages', label)\n",
    " \n",
    "    file_list = os.listdir(label_path)\n",
    "    \n",
    "    for file_name in random.sample(file_list, train_size):\n",
    "        shutil.copy(os.path.join(label_path, file_name), train_path)\n",
    "    \n",
    "    for file_name in random.sample(file_list, test_size):\n",
    "        shutil.copy(os.path.join(label_path, file_name), test_path)\n"
   ]
  },
  {
   "cell_type": "code",
   "execution_count": 8,
   "metadata": {},
   "outputs": [],
   "source": [
    "# write labels\n",
    "labels = [\n",
    "    {'name':'hello', 'id': 1}, \n",
    "    {'name':'iloveyou', 'id': 2},\n",
    "    {'name':'no', 'id': 3},\n",
    "    {'name':'thanks', 'id': 4},\n",
    "    {'name':'yes', 'id': 5}\n",
    "]\n",
    "\n",
    "with open('workspace1/annotations/label_map.pbtxt', 'w') as f:\n",
    "    \n",
    "    for label in labels:\n",
    "        f.write('item { \\n')\n",
    "        f.write('\\tname:\\'{}\\'\\n'.format(label['name']))\n",
    "        f.write('\\tid:{}\\n'.format(label['id']))\n",
    "        f.write('}\\n')"
   ]
  },
  {
   "cell_type": "code",
   "execution_count": 9,
   "metadata": {},
   "outputs": [],
   "source": [
    "# Patch the location of gfile\n",
    "tf.gfile = tf.io.gfile\n",
    "\n",
    "# convert to npy\n",
    "def convert_image_into_numpy_array(path):\n",
    "    '''Puts image into numpy array to feed into tensorflow graph.\n",
    "    Get a numpy array with shape (img_height, img_width, 3), where channels=3 for RGB.'''\n",
    "\n",
    "    img_data = tf.io.gfile.GFile(path, 'rb').read()\n",
    "    image = Image.open(BytesIO(img_data))\n",
    "    (im_width, im_height) = image.size\n",
    "    return np.array(image.getdata()).reshape(\n",
    "        (im_height, im_width, 3)).astype(np.uint8)"
   ]
  },
  {
   "cell_type": "code",
   "execution_count": 11,
   "metadata": {},
   "outputs": [],
   "source": [
    "hello_train_path = os.path.join('workspace1', 'images', 'train', 'hello','hello3.jpg')\n",
    "hello3 = convert_image_into_numpy_array(hello_train_path)"
   ]
  },
  {
   "cell_type": "code",
   "execution_count": 12,
   "metadata": {},
   "outputs": [
    {
     "data": {
      "text/plain": [
       "(480, 640, 3)"
      ]
     },
     "execution_count": 12,
     "metadata": {},
     "output_type": "execute_result"
    }
   ],
   "source": [
    "hello3.shape"
   ]
  },
  {
   "cell_type": "code",
   "execution_count": 13,
   "metadata": {},
   "outputs": [],
   "source": [
    "# plot images\n",
    "def plotImages(images_arr):\n",
    "    fig, axes = plt.subplots(1, 10, figsize=(30,20))\n",
    "    axes = axes.flatten()\n",
    "    for img, ax in zip(images_arr, axes):\n",
    "        img = cv2.cvtColor(img, cv2.COLOR_BGR2RGB)\n",
    "        ax.imshow(img)\n",
    "        ax.axis('off')\n",
    "    plt.tight_layout()\n",
    "    plt.show()\n"
   ]
  },
  {
   "cell_type": "code",
   "execution_count": 14,
   "metadata": {},
   "outputs": [],
   "source": [
    "# plotImages(hello3)\n",
    "# print(imgs.shape)\n",
    "# print(labels) "
   ]
  }
 ],
 "metadata": {
  "colab": {
   "name": "sign_language_tensorflow.ipynb",
   "provenance": []
  },
  "kernelspec": {
   "display_name": "Python 3 (ipykernel)",
   "language": "python",
   "name": "python3"
  },
  "language_info": {
   "codemirror_mode": {
    "name": "ipython",
    "version": 3
   },
   "file_extension": ".py",
   "mimetype": "text/x-python",
   "name": "python",
   "nbconvert_exporter": "python",
   "pygments_lexer": "ipython3",
   "version": "3.9.7"
  },
  "toc": {
   "base_numbering": 1,
   "nav_menu": {},
   "number_sections": true,
   "sideBar": true,
   "skip_h1_title": false,
   "title_cell": "Table of Contents",
   "title_sidebar": "Contents",
   "toc_cell": false,
   "toc_position": {},
   "toc_section_display": true,
   "toc_window_display": true
  }
 },
 "nbformat": 4,
 "nbformat_minor": 1
}
