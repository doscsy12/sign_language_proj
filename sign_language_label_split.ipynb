{
 "cells": [
  {
   "cell_type": "markdown",
   "metadata": {},
   "source": [
    "# Sign language project using Tensorflow "
   ]
  },
  {
   "cell_type": "markdown",
   "metadata": {},
   "source": [
    "## Goal\n",
    "\n",
    "This notebook is to build a sign language classifier. One will be able to create own data, label it and train the classifier on specific signs. We will work with the American Sign Language (ASL) codes.\n"
   ]
  },
  {
   "cell_type": "markdown",
   "metadata": {
    "id": "zXvSoZiUsKNU"
   },
   "source": [
    "**Import libraries**"
   ]
  },
  {
   "cell_type": "code",
   "execution_count": 1,
   "metadata": {
    "colab": {
     "base_uri": "https://localhost:8080/",
     "height": 398
    },
    "id": "oEqk3xPXsKNU",
    "outputId": "5711e83f-fe32-4e0b-aa8e-4156ff989941"
   },
   "outputs": [],
   "source": [
    "import uuid\n",
    "import numpy as np\n",
    "import os\n",
    "import time\n",
    "from pathlib import Path\n",
    "import cv2 \n",
    "import random\n",
    "import shutil\n",
    "import matplotlib.pyplot as plt\n",
    "\n",
    "from PIL import Image\n",
    "from io import BytesIO\n",
    "import tensorflow as tf\n",
    "from tensorflow import keras\n",
    "from tensorflow.keras.preprocessing.image import ImageDataGenerator\n",
    "from tensorflow.keras.applications.vgg16 import preprocess_input, decode_predictions"
   ]
  },
  {
   "cell_type": "markdown",
   "metadata": {
    "id": "agMBtghdsKNW"
   },
   "source": [
    "**Note:** images should have been collected.\n"
   ]
  },
  {
   "cell_type": "markdown",
   "metadata": {
    "id": "VRepbSLzsKNX"
   },
   "source": [
    "### Label collected data"
   ]
  },
  {
   "cell_type": "code",
   "execution_count": 2,
   "metadata": {},
   "outputs": [],
   "source": [
    "labels = ['hello', 'thanks', 'iloveyou', 'yes', 'no']"
   ]
  },
  {
   "cell_type": "code",
   "execution_count": 3,
   "metadata": {},
   "outputs": [],
   "source": [
    "for label in labels:\n",
    "    i = 0\n",
    "    label_path = os.path.join('workspace1', 'images', 'collectedimages', label)\n",
    "\n",
    "    for filename in os.listdir(label_path):\n",
    "        my_dest = label + str(i) + \".jpg\"\n",
    "        my_source = os.path.join(label_path, filename)\n",
    "        my_dest = os.path.join(label_path, my_dest)\n",
    "        # rename() function will rename all the files\n",
    "        os.rename(my_source, my_dest)\n",
    "        i += 1 "
   ]
  },
  {
   "cell_type": "markdown",
   "metadata": {},
   "source": [
    "**Split data to train/test folder**"
   ]
  },
  {
   "cell_type": "code",
   "execution_count": 4,
   "metadata": {},
   "outputs": [],
   "source": [
    "labels = ['hello', 'thanks', 'iloveyou', 'yes', 'no']\n",
    "source_path = os.path.join('workspace1', 'images')\n",
    "        \n",
    "paths = ['train', 'test']\n",
    "for p in paths:\n",
    "    for label in labels:\n",
    "        path = os.path.join(source_path, p, label)\n",
    "        if not os.path.exists(path):\n",
    "            !mkdir {path}  "
   ]
  },
  {
   "cell_type": "code",
   "execution_count": 5,
   "metadata": {},
   "outputs": [],
   "source": [
    "labels = ['hello', 'thanks', 'iloveyou', 'yes', 'no']\n",
    "number_imgs = 10\n",
    "test_size = int(np.ceil(0.25*number_imgs))\n",
    "train_size = number_imgs - test_size\n",
    "\n",
    "for label in labels:\n",
    "    train_path = os.path.join('workspace1', 'images', 'train', label)\n",
    "    test_path = os.path.join( 'workspace1', 'images', 'test', label)\n",
    "\n",
    "    label_path = os.path.join('workspace1', 'images', 'collectedimages', label)\n",
    " \n",
    "    file_list = os.listdir(label_path)\n",
    "    \n",
    "    for file_name in random.sample(file_list, train_size):\n",
    "        shutil.copy(os.path.join(label_path, file_name), train_path)\n",
    "    \n",
    "    for file_name in random.sample(file_list, test_size):\n",
    "        shutil.copy(os.path.join(label_path, file_name), test_path)\n"
   ]
  },
  {
   "cell_type": "code",
   "execution_count": 6,
   "metadata": {},
   "outputs": [],
   "source": [
    "train_path = os.path.join('workspace1', 'images', 'train')\n",
    "test_path = os.path.join( 'workspace1', 'images', 'test')\n"
   ]
  },
  {
   "cell_type": "code",
   "execution_count": 7,
   "metadata": {},
   "outputs": [
    {
     "name": "stdout",
     "output_type": "stream",
     "text": [
      "Found 50 images belonging to 5 classes.\n",
      "Found 36 images belonging to 5 classes.\n"
     ]
    }
   ],
   "source": [
    "train_batches = ImageDataGenerator(preprocessing_function=preprocess_input).flow_from_directory(directory=train_path, target_size=(64,64), class_mode='categorical', batch_size=10, shuffle=True)\n",
    "test_batches = ImageDataGenerator(preprocessing_function=preprocess_input).flow_from_directory(directory=test_path, target_size=(64,64), class_mode='categorical', batch_size=10, shuffle=True)\n",
    "\n",
    "imgs, labels = next(train_batches)"
   ]
  }
 ],
 "metadata": {
  "colab": {
   "name": "sign_language_tensorflow.ipynb",
   "provenance": []
  },
  "kernelspec": {
   "display_name": "Python 3 (ipykernel)",
   "language": "python",
   "name": "python3"
  },
  "language_info": {
   "codemirror_mode": {
    "name": "ipython",
    "version": 3
   },
   "file_extension": ".py",
   "mimetype": "text/x-python",
   "name": "python",
   "nbconvert_exporter": "python",
   "pygments_lexer": "ipython3",
   "version": "3.9.7"
  },
  "toc": {
   "base_numbering": 1,
   "nav_menu": {},
   "number_sections": true,
   "sideBar": true,
   "skip_h1_title": false,
   "title_cell": "Table of Contents",
   "title_sidebar": "Contents",
   "toc_cell": false,
   "toc_position": {},
   "toc_section_display": true,
   "toc_window_display": true
  }
 },
 "nbformat": 4,
 "nbformat_minor": 1
}
