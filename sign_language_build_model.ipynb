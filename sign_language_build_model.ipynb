{
 "cells": [
  {
   "cell_type": "markdown",
   "metadata": {},
   "source": [
    "# Sign language project using Tensorflow "
   ]
  },
  {
   "cell_type": "markdown",
   "metadata": {},
   "source": [
    "## Goal\n",
    "\n",
    "This notebook is to build a sign language classifier. One will be able to create own data, label it and train the classifier on specific signs. We will work with the American Sign Language (ASL) codes.\n"
   ]
  },
  {
   "cell_type": "markdown",
   "metadata": {
    "id": "zXvSoZiUsKNU"
   },
   "source": [
    "**Import libraries**"
   ]
  },
  {
   "cell_type": "code",
   "execution_count": 1,
   "metadata": {
    "colab": {
     "base_uri": "https://localhost:8080/",
     "height": 398
    },
    "id": "oEqk3xPXsKNU",
    "outputId": "5711e83f-fe32-4e0b-aa8e-4156ff989941"
   },
   "outputs": [],
   "source": [
    "import uuid\n",
    "import numpy as np\n",
    "import os\n",
    "import time\n",
    "from pathlib import Path\n",
    "import cv2 \n",
    "import random\n",
    "import shutil\n",
    "import matplotlib.pyplot as plt\n",
    "\n",
    "import tensorflow as tf\n",
    "from object_detection.utils import config_util\n",
    "from object_detection.protos import pipeline_pb2\n",
    "from google.protobuf import text_format"
   ]
  },
  {
   "cell_type": "code",
   "execution_count": 2,
   "metadata": {},
   "outputs": [],
   "source": [
    "from PIL import Image\n",
    "from io import BytesIO\n",
    "import visualkeras\n",
    "from tensorflow import keras\n",
    "from tensorflow.keras.applications.vgg16 import VGG16, preprocess_input, decode_predictions\n",
    "from tensorflow.keras.models import Sequential, load_model\n",
    "from tensorflow.keras.layers import Activation, Dense, Flatten, BatchNormalization, Conv2D, MaxPool2D, Dropout\n",
    "from tensorflow.keras.optimizers import Adam, SGD\n",
    "from tensorflow.keras.metrics import categorical_crossentropy\n",
    "from tensorflow.keras.preprocessing.image import ImageDataGenerator\n",
    "import itertools\n",
    "import warnings\n",
    "\n",
    "from tensorflow.keras.callbacks import ReduceLROnPlateau\n",
    "from tensorflow.keras.callbacks import ModelCheckpoint, EarlyStopping\n",
    "warnings.simplefilter(action='ignore', category=FutureWarning)"
   ]
  },
  {
   "cell_type": "markdown",
   "metadata": {},
   "source": [
    "**Note:** One need to already collected data (in previous notebook) for the labels (in cell below)."
   ]
  },
  {
   "cell_type": "markdown",
   "metadata": {
    "id": "VRepbSLzsKNX"
   },
   "source": [
    "### Label collected data"
   ]
  },
  {
   "cell_type": "code",
   "execution_count": 3,
   "metadata": {},
   "outputs": [],
   "source": [
    "labels = ['hello', 'thanks', 'iloveyou', 'yes', 'no']"
   ]
  },
  {
   "cell_type": "code",
   "execution_count": 4,
   "metadata": {},
   "outputs": [],
   "source": [
    "for label in labels:\n",
    "    i = 0\n",
    "    label_path = os.path.join('workspace', 'images', 'collectedimages', label)\n",
    "\n",
    "    for filename in os.listdir(label_path):\n",
    "        my_dest = label + str(i) + \".jpg\"\n",
    "        my_source = os.path.join(label_path, filename)\n",
    "        my_dest = os.path.join(label_path, my_dest)\n",
    "        # rename() function will rename all the files\n",
    "        os.rename(my_source, my_dest)\n",
    "        i += 1 "
   ]
  },
  {
   "cell_type": "markdown",
   "metadata": {},
   "source": [
    "**Split data to train/test folder**"
   ]
  },
  {
   "cell_type": "code",
   "execution_count": 5,
   "metadata": {},
   "outputs": [],
   "source": [
    "labels = ['hello', 'thanks', 'iloveyou', 'yes', 'no']\n",
    "source_path = os.path.join('workspace', 'images')\n",
    "        \n",
    "paths = ['train', 'test']\n",
    "for p in paths:\n",
    "    for label in labels:\n",
    "        path = os.path.join(source_path, p, label)\n",
    "        if not os.path.exists(path):\n",
    "            !mkdir {path}  "
   ]
  },
  {
   "cell_type": "code",
   "execution_count": 6,
   "metadata": {},
   "outputs": [],
   "source": [
    "labels = ['hello', 'thanks', 'iloveyou', 'yes', 'no']\n",
    "number_imgs = 10\n",
    "test_size = int(np.ceil(0.25*number_imgs))\n",
    "train_size = number_imgs - test_size\n",
    "\n",
    "for label in labels:\n",
    "    train_path = os.path.join('workspace', 'images', 'train', label)\n",
    "    test_path = os.path.join( 'workspace', 'images', 'test', label)\n",
    "\n",
    "    label_path = os.path.join('workspace', 'images', 'collectedimages', label)\n",
    " \n",
    "    file_list = os.listdir(label_path)\n",
    "    \n",
    "    for file_name in random.sample(file_list, train_size):\n",
    "        shutil.copy(os.path.join(label_path, file_name), train_path)\n",
    "    \n",
    "    for file_name in random.sample(file_list, test_size):\n",
    "        shutil.copy(os.path.join(label_path, file_name), test_path)\n"
   ]
  },
  {
   "cell_type": "code",
   "execution_count": 7,
   "metadata": {},
   "outputs": [],
   "source": [
    "train_path = os.path.join('workspace', 'images', 'train')\n",
    "test_path = os.path.join( 'workspace', 'images', 'test')\n"
   ]
  },
  {
   "cell_type": "code",
   "execution_count": 8,
   "metadata": {},
   "outputs": [
    {
     "name": "stdout",
     "output_type": "stream",
     "text": [
      "Found 35 images belonging to 5 classes.\n",
      "Found 15 images belonging to 5 classes.\n"
     ]
    }
   ],
   "source": [
    "train_batches = ImageDataGenerator(preprocessing_function=preprocess_input).flow_from_directory(directory=train_path, target_size=(64,64), class_mode='categorical', batch_size=10, shuffle=True)\n",
    "test_batches = ImageDataGenerator(preprocessing_function=preprocess_input).flow_from_directory(directory=test_path, target_size=(64,64), class_mode='categorical', batch_size=10, shuffle=True)\n",
    "\n",
    "# For getting next batch of images\n",
    "imgs, labels = next(train_batches)"
   ]
  },
  {
   "cell_type": "code",
   "execution_count": 9,
   "metadata": {},
   "outputs": [
    {
     "name": "stderr",
     "output_type": "stream",
     "text": [
      "Clipping input data to the valid range for imshow with RGB data ([0..1] for floats or [0..255] for integers).\n",
      "Clipping input data to the valid range for imshow with RGB data ([0..1] for floats or [0..255] for integers).\n",
      "Clipping input data to the valid range for imshow with RGB data ([0..1] for floats or [0..255] for integers).\n",
      "Clipping input data to the valid range for imshow with RGB data ([0..1] for floats or [0..255] for integers).\n",
      "Clipping input data to the valid range for imshow with RGB data ([0..1] for floats or [0..255] for integers).\n",
      "Clipping input data to the valid range for imshow with RGB data ([0..1] for floats or [0..255] for integers).\n",
      "Clipping input data to the valid range for imshow with RGB data ([0..1] for floats or [0..255] for integers).\n",
      "Clipping input data to the valid range for imshow with RGB data ([0..1] for floats or [0..255] for integers).\n",
      "Clipping input data to the valid range for imshow with RGB data ([0..1] for floats or [0..255] for integers).\n",
      "Clipping input data to the valid range for imshow with RGB data ([0..1] for floats or [0..255] for integers).\n"
     ]
    },
    {
     "data": {
      "image/png": "[encoded data removed]",
      "text/plain": [
       "<Figure size 2160x1440 with 10 Axes>"
      ]
     },
     "metadata": {
      "needs_background": "light"
     },
     "output_type": "display_data"
    },
    {
     "name": "stdout",
     "output_type": "stream",
     "text": [
      "(10, 64, 64, 3)\n",
      "[[0. 1. 0. 0. 0.]\n",
      " [1. 0. 0. 0. 0.]\n",
      " [0. 0. 1. 0. 0.]\n",
      " [0. 1. 0. 0. 0.]\n",
      " [1. 0. 0. 0. 0.]\n",
      " [1. 0. 0. 0. 0.]\n",
      " [0. 0. 1. 0. 0.]\n",
      " [1. 0. 0. 0. 0.]\n",
      " [0. 0. 0. 1. 0.]\n",
      " [0. 0. 0. 1. 0.]]\n"
     ]
    }
   ],
   "source": [
    "# Plotting what the images and labels look like\n",
    "def plotImages(images_arr):\n",
    "    fig, axes = plt.subplots(1, 10, figsize=(30,20))\n",
    "    axes = axes.flatten()\n",
    "    for img, ax in zip(images_arr, axes):\n",
    "        img = cv2.cvtColor(img, cv2.COLOR_BGR2RGB)\n",
    "        ax.imshow(img)\n",
    "        ax.axis('off')\n",
    "    plt.tight_layout()\n",
    "    plt.show()\n",
    "\n",
    "\n",
    "plotImages(imgs)\n",
    "print(imgs.shape)\n",
    "print(labels)"
   ]
  },
  {
   "cell_type": "markdown",
   "metadata": {},
   "source": [
    "### Build model"
   ]
  },
  {
   "cell_type": "code",
   "execution_count": 10,
   "metadata": {},
   "outputs": [],
   "source": [
    "model = Sequential()\n",
    "\n",
    "model.add(Conv2D(filters=32, kernel_size=(3, 3), activation='relu', input_shape=(64,64,3)))\n",
    "model.add(MaxPool2D(pool_size=(2, 2), strides=2))\n",
    "\n",
    "model.add(Conv2D(filters=64, kernel_size=(3, 3), activation='relu', padding = 'same'))\n",
    "model.add(MaxPool2D(pool_size=(2, 2), strides=2))\n",
    "\n",
    "model.add(Conv2D(filters=128, kernel_size=(3, 3), activation='relu', padding = 'valid'))\n",
    "model.add(MaxPool2D(pool_size=(2, 2), strides=2))\n",
    "\n",
    "model.add(Flatten())\n",
    "\n",
    "model.add(Dense(64,activation =\"relu\"))\n",
    "model.add(Dense(128,activation =\"relu\"))\n",
    "#model.add(Dropout(0.2))\n",
    "model.add(Dense(128,activation =\"relu\"))\n",
    "#model.add(Dropout(0.3))\n",
    "model.add(Dense(5,activation =\"softmax\"))"
   ]
  },
  {
   "cell_type": "code",
   "execution_count": 11,
   "metadata": {},
   "outputs": [],
   "source": [
    "visualkeras.layered_view(model, to_file='model.png').show()"
   ]
  },
  {
   "cell_type": "code",
   "execution_count": 12,
   "metadata": {},
   "outputs": [
    {
     "name": "stdout",
     "output_type": "stream",
     "text": [
      "Model: \"sequential\"\n",
      "_________________________________________________________________\n",
      "Layer (type)                 Output Shape              Param #   \n",
      "=================================================================\n",
      "conv2d (Conv2D)              (None, 62, 62, 32)        896       \n",
      "_________________________________________________________________\n",
      "max_pooling2d (MaxPooling2D) (None, 31, 31, 32)        0         \n",
      "_________________________________________________________________\n",
      "conv2d_1 (Conv2D)            (None, 31, 31, 64)        18496     \n",
      "_________________________________________________________________\n",
      "max_pooling2d_1 (MaxPooling2 (None, 15, 15, 64)        0         \n",
      "_________________________________________________________________\n",
      "conv2d_2 (Conv2D)            (None, 13, 13, 128)       73856     \n",
      "_________________________________________________________________\n",
      "max_pooling2d_2 (MaxPooling2 (None, 6, 6, 128)         0         \n",
      "_________________________________________________________________\n",
      "flatten (Flatten)            (None, 4608)              0         \n",
      "_________________________________________________________________\n",
      "dense (Dense)                (None, 64)                294976    \n",
      "_________________________________________________________________\n",
      "dense_1 (Dense)              (None, 128)               8320      \n",
      "_________________________________________________________________\n",
      "dense_2 (Dense)              (None, 128)               16512     \n",
      "_________________________________________________________________\n",
      "dense_3 (Dense)              (None, 5)                 645       \n",
      "=================================================================\n",
      "Total params: 413,701\n",
      "Trainable params: 413,701\n",
      "Non-trainable params: 0\n",
      "_________________________________________________________________\n"
     ]
    }
   ],
   "source": [
    "model.summary()"
   ]
  },
  {
   "cell_type": "code",
   "execution_count": 13,
   "metadata": {},
   "outputs": [],
   "source": [
    "model.compile(optimizer=SGD(learning_rate=0.001), loss='categorical_crossentropy', metrics=['accuracy'])\n",
    "reduce_lr = ReduceLROnPlateau(monitor='val_loss', factor=0.2, patience=1, min_lr=0.0005)\n",
    "early_stop = EarlyStopping(monitor='val_loss', min_delta=0, patience=2, verbose=0, mode='auto')\n"
   ]
  },
  {
   "cell_type": "code",
   "execution_count": 14,
   "metadata": {},
   "outputs": [
    {
     "name": "stdout",
     "output_type": "stream",
     "text": [
      "Epoch 1/10\n",
      "4/4 [==============================] - 3s 480ms/step - loss: 14.7684 - accuracy: 0.2000 - val_loss: 14.8784 - val_accuracy: 0.2000\n",
      "Epoch 2/10\n",
      "4/4 [==============================] - 1s 308ms/step - loss: 7.0428 - accuracy: 0.1429 - val_loss: 1.9945 - val_accuracy: 0.2000\n",
      "Epoch 3/10\n",
      "4/4 [==============================] - 1s 308ms/step - loss: 1.9431 - accuracy: 0.1429 - val_loss: 1.4205 - val_accuracy: 0.4000\n",
      "Epoch 4/10\n",
      "4/4 [==============================] - 1s 267ms/step - loss: 1.4471 - accuracy: 0.3429 - val_loss: 1.5318 - val_accuracy: 0.2667\n",
      "Epoch 5/10\n",
      "4/4 [==============================] - 1s 257ms/step - loss: 1.4049 - accuracy: 0.3714 - val_loss: 1.3170 - val_accuracy: 0.4667\n",
      "Epoch 6/10\n",
      "4/4 [==============================] - 1s 260ms/step - loss: 1.2113 - accuracy: 0.6286 - val_loss: 1.2177 - val_accuracy: 0.5333\n",
      "Epoch 7/10\n",
      "4/4 [==============================] - 1s 262ms/step - loss: 1.1344 - accuracy: 0.6571 - val_loss: 1.1353 - val_accuracy: 0.5333\n",
      "Epoch 8/10\n",
      "4/4 [==============================] - 1s 375ms/step - loss: 0.9924 - accuracy: 0.6286 - val_loss: 1.0230 - val_accuracy: 0.6667\n",
      "Epoch 9/10\n",
      "4/4 [==============================] - 1s 372ms/step - loss: 0.9625 - accuracy: 0.7429 - val_loss: 1.0128 - val_accuracy: 0.6667\n",
      "Epoch 10/10\n",
      "4/4 [==============================] - 1s 296ms/step - loss: 0.8743 - accuracy: 0.8286 - val_loss: 0.9492 - val_accuracy: 0.8000\n"
     ]
    }
   ],
   "source": [
    "history = model.fit(train_batches, \n",
    "                    epochs=10, \n",
    "                    callbacks=[reduce_lr, early_stop],  \n",
    "                    validation_data = test_batches) \n",
    "\n",
    "# For getting next batch of images\n",
    "imgs, labels = next(train_batches) \n"
   ]
  },
  {
   "cell_type": "code",
   "execution_count": 15,
   "metadata": {},
   "outputs": [
    {
     "data": {
      "image/png": "[encoded data removed]",
      "text/plain": [
       "<Figure size 720x504 with 1 Axes>"
      ]
     },
     "metadata": {
      "needs_background": "light"
     },
     "output_type": "display_data"
    }
   ],
   "source": [
    "# Check out our train loss and test loss over epochs.\n",
    "train_loss = history.history['loss']\n",
    "test_loss = history.history['val_loss']\n",
    "epoch_labels = history.epoch\n",
    "\n",
    "# Set figure size.\n",
    "plt.figure(figsize=(10, 7))\n",
    "\n",
    "# Generate line plot of training, testing loss over epochs.\n",
    "plt.plot(train_loss, label='Training Loss', color='#185fad')\n",
    "plt.plot(test_loss, label='Testing Loss', color='orange')\n",
    "\n",
    "# Set title\n",
    "plt.title('Training and Testing Loss by Epoch', fontsize=15)\n",
    "plt.xlabel('Epoch', fontsize=12)\n",
    "plt.ylabel('Sparse Categorical Crossentropy', fontsize=12)\n",
    "plt.xticks(epoch_labels, epoch_labels)    # ticks, labels\n",
    "\n",
    "plt.legend(fontsize=18);"
   ]
  },
  {
   "cell_type": "code",
   "execution_count": 19,
   "metadata": {},
   "outputs": [
    {
     "name": "stdout",
     "output_type": "stream",
     "text": [
      "loss of 1.107082724571228; accuracy of 69.9999988079071%\n"
     ]
    }
   ],
   "source": [
    "# model accuracy/loss scores for test set\n",
    "imgs, labels = next(test_batches) \n",
    "scores = model.evaluate(imgs, labels, verbose=0)\n",
    "\n",
    "print(f'{model.metrics_names[0]} of {scores[0]}; {model.metrics_names[1]} of {scores[1]*100}%')"
   ]
  },
  {
   "cell_type": "code",
   "execution_count": 20,
   "metadata": {},
   "outputs": [
    {
     "name": "stdout",
     "output_type": "stream",
     "text": [
      "{'loss': [14.76836109161377, 7.042834758758545, 1.9431341886520386, 1.4470927715301514, 1.4048725366592407, 1.211343765258789, 1.1343799829483032, 0.9923788905143738, 0.9624720811843872, 0.8743274211883545], 'accuracy': [0.20000000298023224, 0.1428571492433548, 0.1428571492433548, 0.34285715222358704, 0.37142857909202576, 0.6285714507102966, 0.6571428775787354, 0.6285714507102966, 0.7428571581840515, 0.8285714387893677], 'val_loss': [14.878439903259277, 1.9945274591445923, 1.420470118522644, 1.5318031311035156, 1.3169822692871094, 1.217710256576538, 1.1353286504745483, 1.0229741334915161, 1.0128308534622192, 0.9492035508155823], 'val_accuracy': [0.20000000298023224, 0.20000000298023224, 0.4000000059604645, 0.2666666805744171, 0.46666666865348816, 0.5333333611488342, 0.5333333611488342, 0.6666666865348816, 0.6666666865348816, 0.800000011920929], 'lr': [0.001, 0.001, 0.001, 0.001, 0.0005, 0.0005, 0.0005, 0.0005, 0.0005, 0.0005]}\n"
     ]
    }
   ],
   "source": [
    "model.save('best_model.h5')\n",
    "\n",
    "print(history.history)"
   ]
  },
  {
   "cell_type": "code",
   "execution_count": 21,
   "metadata": {},
   "outputs": [
    {
     "name": "stdout",
     "output_type": "stream",
     "text": [
      "loss of 0.6334453821182251; accuracy of 100.0%\n"
     ]
    }
   ],
   "source": [
    "imgs, labels = next(test_batches)\n",
    "\n",
    "model = load_model(r\"best_model.h5\")\n",
    "\n",
    "scores = model.evaluate(imgs, labels, verbose=0)\n",
    "print(f'{model.metrics_names[0]} of {scores[0]}; {model.metrics_names[1]} of {scores[1]*100}%')"
   ]
  },
  {
   "cell_type": "markdown",
   "metadata": {
    "id": "7SkJBSuCsKNe"
   },
   "source": [
    "It is possible that, with such a small dataset, you don't get any predictions for a given class. This can be further improved adding more images from this class, or training your model with different lightings and positions."
   ]
  }
 ],
 "metadata": {
  "colab": {
   "name": "sign_language_tensorflow.ipynb",
   "provenance": []
  },
  "kernelspec": {
   "display_name": "Python 3 (ipykernel)",
   "language": "python",
   "name": "python3"
  },
  "language_info": {
   "codemirror_mode": {
    "name": "ipython",
    "version": 3
   },
   "file_extension": ".py",
   "mimetype": "text/x-python",
   "name": "python",
   "nbconvert_exporter": "python",
   "pygments_lexer": "ipython3",
   "version": "3.9.7"
  },
  "toc": {
   "base_numbering": 1,
   "nav_menu": {},
   "number_sections": true,
   "sideBar": true,
   "skip_h1_title": false,
   "title_cell": "Table of Contents",
   "title_sidebar": "Contents",
   "toc_cell": false,
   "toc_position": {},
   "toc_section_display": true,
   "toc_window_display": true
  }
 },
 "nbformat": 4,
 "nbformat_minor": 1
}
